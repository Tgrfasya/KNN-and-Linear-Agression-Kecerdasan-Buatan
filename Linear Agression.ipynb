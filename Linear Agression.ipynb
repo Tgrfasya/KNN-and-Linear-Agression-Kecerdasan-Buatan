{
 "cells": [
  {
   "cell_type": "code",
   "execution_count": null,
   "metadata": {},
   "outputs": [],
   "source": [
    "#1\n",
    "import pandas as pd\n",
    "\n",
    "data_kelapa_sawit = {\n",
    "    'luas lahan kelapa sawit': [100, 150, 230, 240, 300, 335, 500],\n",
    "    'harga lahan kelapa sawit': [250000, 350000, 450000, 550000, 650000, 750000, 1000000]\n",
    "}\n",
    "\n",
    "data_kelapa_sawit_df = pd.DataFrame(data_kelapa_sawit)\n",
    "data_kelapa_sawit_df"
   ]
  },
  {
   "cell_type": "code",
   "execution_count": null,
   "metadata": {},
   "outputs": [],
   "source": [
    "#2\n",
    "import matplotlib.pyplot as plt\n",
    "\n",
    "data_kelapa_sawit_df.plot(kind='scatter', x='luas lahan kelapa sawit', y='harga lahan kelapa sawit')\n",
    "\n",
    "plt.title('Perbandingan luas lahan kelapa sawit dan Harga Lahan Kelapa Sawit')\n",
    "plt.xlabel('Luas Lahan Kelapa Sawit')\n",
    "plt.ylabel('Harga Lahan Kelapa Sawit')\n",
    "plt.grid(True)\n",
    "plt.show()"
   ]
  },
  {
   "cell_type": "code",
   "execution_count": null,
   "metadata": {},
   "outputs": [],
   "source": [
    "#3 \n",
    "import numpy as np\n",
    "\n",
    "luas_lahan_kelapa_sawit = np.array(data_kelapa_sawit_df['luas lahan kelapa sawit'])\n",
    "harga_lahan_kelapa_sawit = np.array(data_kelapa_sawit_df['harga lahan kelapa sawit'])\n",
    "\n",
    "print(f'luas lahan kelapa sawit : {luas_lahan_kelapa_sawit}')\n",
    "print(f'harga lahan kelapa sawit : {harga_lahan_kelapa_sawit}')"
   ]
  },
  {
   "cell_type": "code",
   "execution_count": null,
   "metadata": {},
   "outputs": [],
   "source": [
    "#4\n",
    "luas_lahan_kelapa_sawit = luas_lahan_kelapa_sawit.reshape(-1, 1)\n",
    "print(luas_lahan_kelapa_sawit.shape)"
   ]
  },
  {
   "cell_type": "code",
   "execution_count": null,
   "metadata": {},
   "outputs": [],
   "source": [
    "#5\n",
    "luas_lahan_kelapa_sawit"
   ]
  },
  {
   "cell_type": "code",
   "execution_count": null,
   "metadata": {},
   "outputs": [],
   "source": [
    "#6\n",
    "from sklearn.linear_model import LinearRegression\n",
    "\n",
    "model = LinearRegression()\n",
    "model.fit(luas_lahan_kelapa_sawit, harga_lahan_kelapa_sawit)"
   ]
  },
  {
   "cell_type": "code",
   "execution_count": null,
   "metadata": {},
   "outputs": [],
   "source": [
    "#7\n",
    "x_visual_kelapa_sawit = np.array([0, 600]).reshape(-1, 1)\n",
    "y_visual_kelapa_sawit = model.predict(x_visual_kelapa_sawit)"
   ]
  },
  {
   "cell_type": "code",
   "execution_count": null,
   "metadata": {},
   "outputs": [],
   "source": [
    "#8\n",
    "plt.scatter(luas_lahan_kelapa_sawit, harga_lahan_kelapa_sawit)\n",
    "plt.plot(x_visual_kelapa_sawit, y_visual_kelapa_sawit, '-r')\n",
    "\n",
    "plt.title('Perbandingan Luas dan Harga Lahan Kelapa Sawit')\n",
    "plt.xlabel('Luas Lahan Kelapa Sawit (m^2)')\n",
    "plt.ylabel('Harga Lahan Kelapa Sawit (IDR)')\n",
    "plt.grid(True)\n",
    "plt.show()"
   ]
  },
  {
   "cell_type": "code",
   "execution_count": null,
   "metadata": {},
   "outputs": [],
   "source": [
    "#9\n",
    "print(f'intercept : {model.intercept_}')\n",
    "print(f'slope     : {model.coef_}')"
   ]
  },
  {
   "cell_type": "code",
   "execution_count": null,
   "metadata": {},
   "outputs": [],
   "source": [
    "#10\n",
    "# beta = cov(x,y) / var(x)\n",
    "\n",
    "print(f'luas lahan kelapa sawit : \\n {luas_lahan_kelapa_sawit}')\n",
    "print(f'luas lahan kelapa sawit Flatten : {luas_lahan_kelapa_sawit.flatten()}\\n')\n",
    "print(f'harga lahan kelapa sawit : {harga_lahan_kelapa_sawit}')"
   ]
  },
  {
   "cell_type": "code",
   "execution_count": null,
   "metadata": {},
   "outputs": [],
   "source": [
    "#11\n",
    "variance_luas_lahan_kelapa_sawit = np.var(luas_lahan_kelapa_sawit.flatten(), ddof=1)\n",
    "print(f'variance : {variance_luas_lahan_kelapa_sawit}')"
   ]
  },
  {
   "cell_type": "code",
   "execution_count": null,
   "metadata": {},
   "outputs": [],
   "source": [
    "#12\n",
    "np.cov(luas_lahan_kelapa_sawit.flatten(), harga_lahan_kelapa_sawit)"
   ]
  },
  {
   "cell_type": "code",
   "execution_count": null,
   "metadata": {},
   "outputs": [],
   "source": [
    "#13\n",
    "covariance_xy = np.cov(luas_lahan_kelapa_sawit.flatten(), harga_lahan_kelapa_sawit)[0][1]\n",
    "print(f'covariance : {covariance_xy}')"
   ]
  },
  {
   "cell_type": "code",
   "execution_count": null,
   "metadata": {},
   "outputs": [],
   "source": [
    "#14\n",
    "slope = covariance_xy / variance_luas_lahan_kelapa_sawit\n",
    "\n",
    "print(f'Slope : {slope}')"
   ]
  },
  {
   "cell_type": "code",
   "execution_count": null,
   "metadata": {},
   "outputs": [],
   "source": [
    "#15\n",
    "intercept = np.mean(harga_lahan_kelapa_sawit) - slope * np.mean(luas_lahan_kelapa_sawit)\n",
    "\n",
    "print(f'intercept : {intercept}')"
   ]
  },
  {
   "cell_type": "code",
   "execution_count": null,
   "metadata": {},
   "outputs": [],
   "source": [
    "#16\n",
    "luas_lahan_kelapa_sawit = np.array([180, 220, 260]).reshape(-1, 1)\n",
    "luas_lahan_kelapa_sawit"
   ]
  },
  {
   "cell_type": "code",
   "execution_count": null,
   "metadata": {},
   "outputs": [],
   "source": [
    "#17\n",
    "prediksi_harga_lahan_kelapa_sawit = model.predict(luas_lahan_kelapa_sawit)\n",
    "prediksi_harga_lahan_kelapa_sawit"
   ]
  },
  {
   "cell_type": "code",
   "execution_count": null,
   "metadata": {},
   "outputs": [],
   "source": [
    "#18\n",
    "for luas, harga in zip(luas_lahan_kelapa_sawit, prediksi_harga_lahan_kelapa_sawit):\n",
    "    print(f'Luas lahan kelapa sawit : {luas} m^2 , prediksi harga : {harga} IDR')"
   ]
  },
  {
   "cell_type": "code",
   "execution_count": null,
   "metadata": {},
   "outputs": [],
   "source": [
    "#19\n",
    "x_train = np.array([100, 150, 230, 240, 300, 335, 500]).reshape(-1, 1)\n",
    "y_train = np.array([250000, 350000, 450000, 550000, 650000, 750000, 1000000])\n",
    "\n",
    "x_test = np.array([170, 210, 250, 400, 260, 360, 430]).reshape(-1, 1)\n",
    "y_test = np.array([450000, 550000, 650000, 1000000, 580000, 730000, 850000])"
   ]
  },
  {
   "cell_type": "code",
   "execution_count": null,
   "metadata": {},
   "outputs": [],
   "source": [
    "#20\n",
    "\n",
    "model = LinearRegression()\n",
    "model.fit(x_train, y_train)"
   ]
  },
  {
   "cell_type": "code",
   "execution_count": null,
   "metadata": {},
   "outputs": [],
   "source": [
    "#21\n",
    "from sklearn.metrics import r2_score\n",
    "\n",
    "y_prediction = model.predict(x_test)\n",
    "r_squared = r2_score(y_test, y_prediction)\n",
    "\n",
    "print(f'R-Squared : {r_squared}')"
   ]
  },
  {
   "cell_type": "code",
   "execution_count": null,
   "metadata": {},
   "outputs": [],
   "source": [
    "#22\n",
    "ss_res = sum([(y_i - model.predict(x_i.reshape(-1,1))[0])**2 for x_i, y_i in zip(x_test, y_test)])\n",
    "\n",
    "print(f'ss_res : {ss_res}')"
   ]
  },
  {
   "cell_type": "code",
   "execution_count": null,
   "metadata": {},
   "outputs": [],
   "source": [
    "#23\n",
    "mean_y = np.mean(y_test)\n",
    "ss_tot = sum([(y_i - mean_y) ** 2 for y_i in y_test])\n",
    "\n",
    "print(f'ss_tot : {ss_tot}')"
   ]
  },
  {
   "cell_type": "code",
   "execution_count": null,
   "metadata": {},
   "outputs": [],
   "source": [
    "#24\n",
    "manual_r2 = 1 - (ss_res / ss_tot)\n",
    "print(f'R-Squared : {manual_r2}')"
   ]
  }
 ],
 "metadata": {
  "kernelspec": {
   "display_name": "base",
   "language": "python",
   "name": "python3"
  },
  "language_info": {
   "codemirror_mode": {
    "name": "ipython",
    "version": 3
   },
   "file_extension": ".py",
   "mimetype": "text/x-python",
   "name": "python",
   "nbconvert_exporter": "python",
   "pygments_lexer": "ipython3",
   "version": "3.9.13"
  }
 },
 "nbformat": 4,
 "nbformat_minor": 2
}
