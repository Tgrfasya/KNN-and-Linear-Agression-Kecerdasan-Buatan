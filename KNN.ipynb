{
 "cells": [
  {
   "cell_type": "code",
   "execution_count": null,
   "metadata": {},
   "outputs": [],
   "source": [
    "# 1. Import dan Membuat DataFrame\n",
    "# Program Prediksi Kepemilikan Rumah\n",
    "import pandas as pd\n",
    "\n",
    "# Data baru dengan tema Kepemilikan Rumah\n",
    "rumah = {\n",
    "    'usia': [28, 35, 42, 21, 29, 45, 39, 26, 32, 37, 20],\n",
    "    'gaji': [5000000, 7500000, 10000000, 2500000, 5600000, 8000000, 6200000, 4500000, 6900000, 7200000, 3800000],\n",
    "    'status': ['memiliki rumah', 'memiliki rumah', 'memiliki rumah', 'tidak memiliki rumah', 'tidak memiliki rumah', 'memiliki rumah', 'memiliki rumah', 'tidak memiliki rumah', 'tidak memiliki rumah', 'memiliki rumah', 'tidak memiliki rumah']\n",
    "}\n",
    "\n",
    "rumah_df = pd.DataFrame(rumah)\n",
    "rumah_df"
   ]
  },
  {
   "cell_type": "code",
   "execution_count": null,
   "metadata": {},
   "outputs": [],
   "source": [
    "# 2. Visualisasi Data\n",
    "import matplotlib.pyplot as plt\n",
    "\n",
    "fig, ax = plt.subplots()\n",
    "for jk, d in rumah_df.groupby('status'):\n",
    "    ax.scatter(d['usia'], d['gaji'], label=jk)\n",
    "\n",
    "plt.legend(loc='upper left')\n",
    "plt.title(\"Sebaran data Kepemilikan Rumah, Usia dan Gaji\")\n",
    "plt.xlabel('Usia')\n",
    "plt.ylabel('Gaji')\n",
    "plt.grid(True)\n",
    "plt.show()"
   ]
  },
  {
   "cell_type": "code",
   "execution_count": null,
   "metadata": {},
   "outputs": [],
   "source": [
    "# 3. Preprocessing Dataset\n",
    "import numpy as np\n",
    "\n",
    "x_train = np.array(rumah_df[['usia', 'gaji']])\n",
    "y_train = np.array(rumah_df['status'])\n",
    "\n",
    "print(f'x_train : \\n {x_train}\\n')\n",
    "print(f'y_train: \\n {y_train}\\n')"
   ]
  },
  {
   "cell_type": "code",
   "execution_count": null,
   "metadata": {},
   "outputs": [],
   "source": [
    "# 4. Label Binarizer\n",
    "from sklearn.preprocessing import LabelBinarizer\n",
    "\n",
    "lb = LabelBinarizer()\n",
    "y_train = lb.fit_transform(y_train)\n",
    "print(f'y_train : {y_train}')"
   ]
  },
  {
   "cell_type": "code",
   "execution_count": null,
   "metadata": {},
   "outputs": [],
   "source": [
    "# 5. Flatten y_train\n",
    "y_train = y_train.flatten()\n",
    "print(f'y_train : {y_train}')"
   ]
  },
  {
   "cell_type": "code",
   "execution_count": null,
   "metadata": {},
   "outputs": [],
   "source": [
    "# 6. KNeighborsClassifier\n",
    "from sklearn.neighbors import KNeighborsClassifier\n",
    "\n",
    "# Classification Task (Digunakan untuk jumlah tetangga terdekat)\n",
    "K = 3\n",
    "model = KNeighborsClassifier(n_neighbors=K)\n",
    "model.fit(x_train, y_train)"
   ]
  },
  {
   "cell_type": "code",
   "execution_count": null,
   "metadata": {},
   "outputs": [],
   "source": [
    "# 7. Data Baru untuk Prediksi\n",
    "usia = 23\n",
    "gaji = 7_000_000\n",
    "\n",
    "x_new = np.array([usia, gaji]).reshape(1,-1)\n",
    "x_new"
   ]
  },
  {
   "cell_type": "code",
   "execution_count": null,
   "metadata": {},
   "outputs": [],
   "source": [
    "# 8. Prediksi Status\n",
    "y_new = model.predict(x_new)\n",
    "y_new"
   ]
  },
  {
   "cell_type": "code",
   "execution_count": null,
   "metadata": {},
   "outputs": [],
   "source": [
    "# 9. Invers Transformasi Prediksi\n",
    "lb.inverse_transform(y_new)"
   ]
  },
  {
   "cell_type": "code",
   "execution_count": null,
   "metadata": {},
   "outputs": [],
   "source": [
    "# 10. Visualisasi dengan Titik Baru\n",
    "fig, ax = plt.subplots()\n",
    "for jk, d in rumah_df.groupby('status'):\n",
    "    ax.scatter(d['usia'], d['gaji'], label=jk)\n",
    "\n",
    "plt.scatter(usia, gaji, marker='D', color='red', label='misterius')\n",
    "\n",
    "plt.legend(loc='upper left')\n",
    "plt.title(\"Sebaran data Kepemilikan Rumah, Usia dan Gaji\")\n",
    "plt.xlabel('Usia')\n",
    "plt.ylabel('Gaji')\n",
    "plt.grid(True)\n",
    "plt.show()"
   ]
  },
  {
   "cell_type": "code",
   "execution_count": null,
   "metadata": {},
   "outputs": [],
   "source": [
    "# 11. Kalkulasi Euclidean Distance\n",
    "# Kalkulasi Euclidean Distance\n",
    "misterius = np.array([usia, gaji])\n",
    "misterius"
   ]
  },
  {
   "cell_type": "code",
   "execution_count": null,
   "metadata": {},
   "outputs": [],
   "source": [
    "#12. Melihat x_train\n",
    "x_train"
   ]
  },
  {
   "cell_type": "code",
   "execution_count": null,
   "metadata": {},
   "outputs": [],
   "source": [
    "# 13. Menghitung Jarak Data\n",
    "from scipy.spatial.distance import euclidean\n",
    "\n",
    "jarak_data = [euclidean(misterius, d) for d in x_train]\n",
    "jarak_data"
   ]
  },
  {
   "cell_type": "code",
   "execution_count": null,
   "metadata": {},
   "outputs": [],
   "source": [
    "# 14. Menambah Kolom Jarak dan Mengurutkan\n",
    "rumah_df['jarak'] = jarak_data\n",
    "rumah_df.sort_values(['jarak'])"
   ]
  },
  {
   "cell_type": "code",
   "execution_count": null,
   "metadata": {},
   "outputs": [],
   "source": [
    "# 15. Evaluasi Model dengan Testing Set\n",
    "# EVALUASI KNN Classification Model\n",
    "# Testing Set\n",
    "\n",
    "x_test = np.array([[30, 5500000], [40, 9000000], [25, 3000000],[38, 7000000]])\n",
    "y_test = lb.transform(np.array(['memiliki rumah', 'memiliki rumah', 'tidak memiliki rumah', 'tidak memiliki rumah'])).flatten()\n",
    "\n",
    "print(f'x_test : {x_test}\\n')\n",
    "print(f'y_test : {y_test}\\n')"
   ]
  },
  {
   "cell_type": "code",
   "execution_count": null,
   "metadata": {},
   "outputs": [],
   "source": [
    "# 16. Prediksi terhadap Testing Set\n",
    "# Prediksi terhadap Testing set\n",
    "x_test = np.array([[30, 5500000], [40, 9000000], [25, 3000000],[38, 7000000]])\n",
    "y_test = lb.transform(np.array(['memiliki rumah', 'memiliki rumah', 'tidak memiliki rumah', 'tidak memiliki rumah'])).flatten()\n",
    "y_prediction = model.predict(x_test)\n",
    "y_prediction"
   ]
  },
  {
   "cell_type": "code",
   "execution_count": null,
   "metadata": {},
   "outputs": [],
   "source": [
    "# 17. Menghitung Akurasi\n",
    "# METRIK EVALUASI\n",
    "# Accuracy - Akurasi\n",
    "# accuracy = (tp + tn) / tp + tn + fp + fn\n",
    "\n",
    "from sklearn.metrics import accuracy_score\n",
    "\n",
    "accuracy = accuracy_score(y_test, y_prediction)\n",
    "print(f'Accuracy : {accuracy}')"
   ]
  },
  {
   "cell_type": "code",
   "execution_count": null,
   "metadata": {},
   "outputs": [],
   "source": [
    "# 18. Menghitung Presisi\n",
    "# Precission - Presisi\n",
    "# precission = tp / (tp + fp)\n",
    "\n",
    "from sklearn.metrics import precision_score\n",
    "\n",
    "precission = precision_score(y_test, y_prediction)\n",
    "\n",
    "print(f'Precission : {precission}')"
   ]
  },
  {
   "cell_type": "code",
   "execution_count": null,
   "metadata": {},
   "outputs": [],
   "source": [
    "# 19. Menghitung Recall\n",
    "# Recall\n",
    "# recall = tp / (tp + fn)\n",
    "\n",
    "from sklearn.metrics import recall_score\n",
    "\n",
    "recall = recall_score(y_test, y_prediction)\n",
    "\n",
    "print(f'Recall : {recall}')"
   ]
  },
  {
   "cell_type": "code",
   "execution_count": null,
   "metadata": {},
   "outputs": [],
   "source": [
    "# 20. Menghitung F1 Score\n",
    "# F1 Score\n",
    "# f1 = 2 x (precission x recall / precission + recall)\n",
    "\n",
    "from sklearn.metrics import f1_score\n",
    "\n",
    "f1 = f1_score(y_test, y_prediction)\n",
    "\n",
    "print(f'F1-Score : {f1}')"
   ]
  },
  {
   "cell_type": "code",
   "execution_count": null,
   "metadata": {},
   "outputs": [],
   "source": [
    "# 21. Classification Report\n",
    "# CLASSIFICATION REPORT \n",
    "\n",
    "from sklearn.metrics import classification_report\n",
    "\n",
    "cls_report = classification_report(y_test, y_prediction)\n",
    "\n",
    "print(f'Classification Report :\\n {cls_report}')"
   ]
  },
  {
   "cell_type": "code",
   "execution_count": null,
   "metadata": {},
   "outputs": [],
   "source": [
    "# 22. Matthews Correlation Coefficient (MCC)\n",
    "# Matthews Correlation Coefficient (MCC)\n",
    "# MCC = (tp x tn + fp x fn) / sqrt((tp+fp) x (tp + fn) x (tn + fp) x (tn + fn))\n",
    "# Batas : -1 (terburuk) sampai ke 1 (terbaik)\n",
    "\n",
    "from sklearn.metrics import matthews_corrcoef\n",
    "\n",
    "MCC = matthews_corrcoef(y_test, y_prediction)\n",
    "print(f'MCC : {MCC}')"
   ]
  }
 ],
 "metadata": {
  "kernelspec": {
   "display_name": "Python 3",
   "language": "python",
   "name": "python3"
  },
  "language_info": {
   "codemirror_mode": {
    "name": "ipython",
    "version": 3
   },
   "file_extension": ".py",
   "mimetype": "text/x-python",
   "name": "python",
   "nbconvert_exporter": "python",
   "pygments_lexer": "ipython3",
   "version": "3.9.13"
  }
 },
 "nbformat": 4,
 "nbformat_minor": 2
}
